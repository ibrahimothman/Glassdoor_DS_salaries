{
 "cells": [
  {
   "cell_type": "code",
   "execution_count": 1,
   "id": "1a5db075",
   "metadata": {},
   "outputs": [],
   "source": [
    "import pandas as pd\n",
    "import os"
   ]
  },
  {
   "cell_type": "code",
   "execution_count": 2,
   "id": "3bb1fb10",
   "metadata": {},
   "outputs": [],
   "source": [
    "# load data into a df\n",
    "df = pd.read_csv('glassdoor_jobs.csv')"
   ]
  },
  {
   "cell_type": "code",
   "execution_count": null,
   "id": "8e662503",
   "metadata": {},
   "outputs": [],
   "source": []
  },
  {
   "cell_type": "code",
   "execution_count": null,
   "id": "54f1fe48",
   "metadata": {},
   "outputs": [],
   "source": []
  },
  {
   "cell_type": "code",
   "execution_count": null,
   "id": "ffdd5cb4",
   "metadata": {},
   "outputs": [],
   "source": []
  },
  {
   "cell_type": "markdown",
   "id": "8769470d",
   "metadata": {},
   "source": [
    "## Data Cleaning"
   ]
  },
  {
   "cell_type": "markdown",
   "id": "b5018275",
   "metadata": {},
   "source": [
    "### Salary Estimate\n",
    "- Removing missing salaries\n",
    "- Get salary only\n",
    "- Check if it's hourly\n",
    "- Add min, max, and avg salary\n",
    "- change hourly salary to yearly"
   ]
  },
  {
   "cell_type": "code",
   "execution_count": 4,
   "id": "628e3acd",
   "metadata": {},
   "outputs": [],
   "source": [
    "# parsing salaries\n",
    "# Remove missing values (-1)\n",
    "df = df[df['Salary Estimate'] != '-1']"
   ]
  },
  {
   "cell_type": "code",
   "execution_count": null,
   "id": "37fc2fc2",
   "metadata": {},
   "outputs": [],
   "source": []
  },
  {
   "cell_type": "code",
   "execution_count": 16,
   "id": "68efc162",
   "metadata": {},
   "outputs": [],
   "source": [
    "# add hourly (estimated salary is per hr)\n",
    "df['s_hr'] = df['Salary Estimate'].apply(lambda x: 1 if 'Per Hour' in x else 0)"
   ]
  },
  {
   "cell_type": "code",
   "execution_count": null,
   "id": "caa4e4e1",
   "metadata": {},
   "outputs": [],
   "source": []
  },
  {
   "cell_type": "code",
   "execution_count": 19,
   "id": "bf0b8afa",
   "metadata": {
    "scrolled": true
   },
   "outputs": [],
   "source": [
    "df['salary'] = df['Salary Estimate'].apply(lambda x: x.split('(')[0].strip())\n",
    "df['salary'] = df['salary'].apply(lambda x: x.replace('$', '').replace('K', ''))\n",
    "df['salary'] = df['salary'].apply(lambda x: x.split(':')[1] if 'Employer Provided Salary' in x or 'Employer Provided Salary' in x else x)\n",
    "df['salary'] = df['salary'].apply(lambda x: x.replace('Per Hour', '') if 'Per Hour' in x else x)"
   ]
  },
  {
   "cell_type": "code",
   "execution_count": null,
   "id": "21d2df7a",
   "metadata": {},
   "outputs": [],
   "source": []
  },
  {
   "cell_type": "code",
   "execution_count": 20,
   "id": "c076ee61",
   "metadata": {},
   "outputs": [],
   "source": [
    "# create min, max, avg salary cols\n",
    "df['s_min'] = df['salary'].apply(lambda x: x.split('-')[0] if '-' in x else x)\n",
    "df['s_max'] = df['salary'].apply(lambda x: x.split('-')[1] if '-' in x else x)\n",
    "df['s_min'] = df['s_min'].astype(float)\n",
    "df['s_max'] = df['s_max'].astype(float)\n",
    "df['s_avg'] = (df['s_min'] + df['s_max']) /2"
   ]
  },
  {
   "cell_type": "code",
   "execution_count": 21,
   "id": "c2594b13",
   "metadata": {},
   "outputs": [],
   "source": [
    "# convert hr pay to yr\n",
    "df['s_min'] = df.apply(lambda x: x['s_min']*1.92 if x['s_hr'] == 1 else x['s_min'], axis=1)\n",
    "df['s_max'] = df.apply(lambda x: x['s_max']*1.92 if x['s_hr'] == 1 else x['s_max'], axis=1)\n",
    "df['s_avg'] = df.apply(lambda x: x['s_avg']*1.92 if x['s_hr'] == 1 else x['s_avg'], axis=1)"
   ]
  },
  {
   "cell_type": "code",
   "execution_count": null,
   "id": "187e2740",
   "metadata": {},
   "outputs": [],
   "source": []
  },
  {
   "cell_type": "code",
   "execution_count": null,
   "id": "5bc3f57d",
   "metadata": {},
   "outputs": [],
   "source": []
  },
  {
   "cell_type": "code",
   "execution_count": null,
   "id": "3cbaa1f6",
   "metadata": {
    "scrolled": true
   },
   "outputs": [],
   "source": []
  },
  {
   "cell_type": "code",
   "execution_count": null,
   "id": "8e78236e",
   "metadata": {},
   "outputs": [],
   "source": []
  },
  {
   "cell_type": "markdown",
   "id": "23ec1b44",
   "metadata": {},
   "source": [
    "### Company Name\n",
    "- Seperate comapany name from rating"
   ]
  },
  {
   "cell_type": "code",
   "execution_count": 294,
   "id": "f8972662",
   "metadata": {},
   "outputs": [],
   "source": [
    "# get company name only without raiting (xxxxx\\n4.3) => (xxxxxx)"
   ]
  },
  {
   "cell_type": "code",
   "execution_count": 23,
   "id": "f5121e81",
   "metadata": {},
   "outputs": [],
   "source": [
    "df['c_name'] = df.apply(lambda x: x['Company Name'] if x['Rating'] < 0 else x['Company Name'][:-3], axis=1)\n",
    "df['c_name'] = df['c_name'].apply(lambda x: x.replace('\\n', ''))"
   ]
  },
  {
   "cell_type": "code",
   "execution_count": null,
   "id": "debe0e9b",
   "metadata": {},
   "outputs": [],
   "source": []
  },
  {
   "cell_type": "markdown",
   "id": "55688997",
   "metadata": {},
   "source": [
    "### Location\n",
    "- Get city and state seperately"
   ]
  },
  {
   "cell_type": "code",
   "execution_count": 25,
   "id": "2d554eaa",
   "metadata": {},
   "outputs": [],
   "source": [
    "# split up state from location\n",
    "df['state'] = df['Location'].apply(lambda x: x.split(',')[1] if ',' in x else x)\n",
    "df['city'] = df['Location'].apply(lambda x: x.split(',')[0] if ',' in x else x)"
   ]
  },
  {
   "cell_type": "code",
   "execution_count": null,
   "id": "4acdb08e",
   "metadata": {},
   "outputs": [],
   "source": []
  },
  {
   "cell_type": "markdown",
   "id": "18517e6d",
   "metadata": {},
   "source": [
    "### Company Age\n",
    "- Calculate how old company is"
   ]
  },
  {
   "cell_type": "code",
   "execution_count": 26,
   "id": "523d6ac1",
   "metadata": {},
   "outputs": [],
   "source": [
    "# add company age\n",
    "df['c_age'] = df['Founded'].apply(lambda x: -1 if x == -1 else (2022 - x))"
   ]
  },
  {
   "cell_type": "code",
   "execution_count": null,
   "id": "be340f30",
   "metadata": {},
   "outputs": [],
   "source": []
  },
  {
   "cell_type": "markdown",
   "id": "421ab29f",
   "metadata": {},
   "source": [
    "### Job description\n",
    "- Try to grab some keywords out of it"
   ]
  },
  {
   "cell_type": "code",
   "execution_count": 28,
   "id": "8baab4a2",
   "metadata": {},
   "outputs": [],
   "source": [
    "# parse description\n",
    "df['py_req'] = df['Job Description'].apply(lambda x: 1 if 'python' in x.lower() else 0)\n",
    "df['r_req'] = df['Job Description'].apply(lambda x: 1 if 'r studio' in x.lower() else 0)\n",
    "df['excel_req'] = df['Job Description'].apply(lambda x: 1 if 'python' in x.lower() else 0)\n",
    "df['sql_req'] = df['Job Description'].apply(lambda x: 1 if 'sql' in x.lower() else 0)\n",
    "df['tableau_req'] = df['Job Description'].apply(lambda x: 1 if 'excel' in x.lower() else 0)"
   ]
  },
  {
   "cell_type": "code",
   "execution_count": 29,
   "id": "ea7b940f",
   "metadata": {},
   "outputs": [],
   "source": [
    "# description length\n",
    "df['desc_len'] = df['Job Description'].apply(lambda x: len(x))"
   ]
  },
  {
   "cell_type": "code",
   "execution_count": 30,
   "id": "00299b1b",
   "metadata": {},
   "outputs": [],
   "source": [
    "# drop Unnamed column\n",
    "df = df.drop(['Unnamed: 0'], axis=1)"
   ]
  },
  {
   "cell_type": "code",
   "execution_count": null,
   "id": "f14e8f65",
   "metadata": {},
   "outputs": [],
   "source": []
  },
  {
   "cell_type": "code",
   "execution_count": null,
   "id": "39ac4321",
   "metadata": {},
   "outputs": [],
   "source": []
  },
  {
   "cell_type": "code",
   "execution_count": 37,
   "id": "09cfc676",
   "metadata": {},
   "outputs": [],
   "source": [
    "# let's categorize jobs based on Job Title (data scientist, data enginner, data analyst, machine learning)\n",
    "def job_simp(title):\n",
    "    title = title.lower()\n",
    "    if 'data scientist' in title:\n",
    "        return 'data scientist'\n",
    "    elif 'analyst' in title:\n",
    "        return 'data analyst'\n",
    "    elif 'data enginner' in title:\n",
    "        return 'data enginner'\n",
    "    elif 'mle' in title:\n",
    "        return 'machine learning'\n",
    "    else:\n",
    "        return 'N/A'"
   ]
  },
  {
   "cell_type": "code",
   "execution_count": 2,
   "id": "34eb9762",
   "metadata": {},
   "outputs": [],
   "source": [
    "df['job_simp'] = df['Job Title'].apply(job_simp)\n",
    "df['job_simp'].value_counts()"
   ]
  },
  {
   "cell_type": "code",
   "execution_count": 39,
   "id": "345d35db",
   "metadata": {},
   "outputs": [],
   "source": [
    "# let's add seniority column\n",
    "def seniority(title):\n",
    "    title = title.lower()\n",
    "    if 'sr' in title or 'senior' in title or 'lead' in title or 'principal' in title:\n",
    "        return 'senior'\n",
    "    elif 'jr' in title or 'junior' in title or 'jr.' in title:\n",
    "        return 'junior'\n",
    "    else:\n",
    "        return 'N/A'"
   ]
  },
  {
   "cell_type": "code",
   "execution_count": 40,
   "id": "41cd2cd2",
   "metadata": {},
   "outputs": [],
   "source": [
    "df['seniority'] = df['Job Title'].apply(seniority)"
   ]
  },
  {
   "cell_type": "code",
   "execution_count": 3,
   "id": "f86a9162",
   "metadata": {},
   "outputs": [],
   "source": [
    "df['seniority'].value_counts()"
   ]
  },
  {
   "cell_type": "code",
   "execution_count": null,
   "id": "2e534619",
   "metadata": {},
   "outputs": [],
   "source": []
  },
  {
   "cell_type": "code",
   "execution_count": 43,
   "id": "03820440",
   "metadata": {},
   "outputs": [],
   "source": [
    "interesting_col = ['Job Title', 'job_simp', 'salary','s_min', 's_max', 's_avg', 's_hr', 'Job Description', 'desc_len', 'Rating', 'c_name', 'Location', 'city', 'state', 'Size', 'Type of ownership', 'Sector', 'Founded', 'c_age', 'Industry', 'Revenue', 'py_req', 'r_req',\n",
    "       'excel_req', 'sql_req', 'tableau_req', 'seniority']\n",
    "df = df[interesting_col]"
   ]
  },
  {
   "cell_type": "code",
   "execution_count": 44,
   "id": "fe646e0a",
   "metadata": {},
   "outputs": [],
   "source": [
    "df.to_csv('all_data_cleaned_20_01_2022.csv')"
   ]
  },
  {
   "cell_type": "code",
   "execution_count": null,
   "id": "054093ab",
   "metadata": {},
   "outputs": [],
   "source": []
  },
  {
   "cell_type": "code",
   "execution_count": null,
   "id": "fae5ecc0",
   "metadata": {},
   "outputs": [],
   "source": []
  },
  {
   "cell_type": "code",
   "execution_count": null,
   "id": "9692c871",
   "metadata": {},
   "outputs": [],
   "source": []
  },
  {
   "cell_type": "code",
   "execution_count": null,
   "id": "fe03b2d6",
   "metadata": {},
   "outputs": [],
   "source": []
  },
  {
   "cell_type": "code",
   "execution_count": null,
   "id": "4edcd9a8",
   "metadata": {},
   "outputs": [],
   "source": []
  }
 ],
 "metadata": {
  "kernelspec": {
   "display_name": "Python 3 (ipykernel)",
   "language": "python",
   "name": "python3"
  },
  "language_info": {
   "codemirror_mode": {
    "name": "ipython",
    "version": 3
   },
   "file_extension": ".py",
   "mimetype": "text/x-python",
   "name": "python",
   "nbconvert_exporter": "python",
   "pygments_lexer": "ipython3",
   "version": "3.9.7"
  }
 },
 "nbformat": 4,
 "nbformat_minor": 5
}
